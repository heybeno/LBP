{
 "cells": [
  {
   "cell_type": "code",
   "execution_count": 12,
   "metadata": {},
   "outputs": [
    {
     "name": "stdout",
     "output_type": "stream",
     "text": [
      "Loaded 24000 images x 54 features \n",
      "Loaded 24000 images x 54 features \n",
      "Loaded 24000 images x 54 features \n",
      "Test: Loaded 6000 images x 54 features \n",
      "Test: Loaded 6000 images x 54 features \n",
      "Test: Loaded 6000 images x 54 features \n",
      "Pass    :  24000  x  51\n",
      "Cmask   :  24000  x  51\n",
      "Combined:  24000 24000  x  51\n"
     ]
    }
   ],
   "source": [
    "import numpy as np\n",
    "from skimage import feature\n",
    "import pickle\n",
    "from sklearn.svm import SVC\n",
    "import random\n",
    "\n",
    "SEED=444\n",
    "random.seed(SEED) # Use this to get repeateable randomisation\n",
    "\n",
    "class features_class:\n",
    "    def __init__(self,X,y):\n",
    "        self.X = X\n",
    "        self.y = y\n",
    "def apply_features_filter(given_X):\n",
    "    temp_X = np.delete(given_X,[8,26,52],1)\n",
    "    return temp_X\n",
    "\n",
    "# Load training feature files\n",
    "dataset_base_path = \"/scratch/data/latest_dataset/out\"\n",
    "with open (dataset_base_path +\"/train_FE-lbp-rui-r1-n8-r2-n16-r3-n24_PP-cmask-thick-6.pickle\",'rb') as f:\n",
    "    my_features_cmask = pickle.load(f)\n",
    "    print \"Loaded %d images x %d features \" %(len(my_features_cmask.X), len(my_features_cmask.X[1]))\n",
    "with open (dataset_base_path +\"/train_FE-lbp-rui-r1-n8-r2-n16-r3-n24_PP-pass.pickle\",'rb') as f:\n",
    "    my_features_pass = pickle.load(f)\n",
    "    print \"Loaded %d images x %d features \" %(len(my_features_pass.X), len(my_features_pass.X[1]))\n",
    "with open (dataset_base_path +\"/train_FE-lbp-rui-r1-n8-r2-n16-r3-n24_PP-comb-thick-6-k-0.2.pickle\",'rb') as f:\n",
    "    my_features_comb = pickle.load(f)\n",
    "    print \"Loaded %d images x %d features \" %(len(my_features_comb.X), len(my_features_comb.X[1]))\n",
    "\n",
    "# Load test feature files\n",
    "with open (dataset_base_path +\"/test_FE-lbp-rui-r1-n8-r2-n16-r3-n24_PP-cmask-thick-6.pickle\",'rb') as f:\n",
    "    test_cmask = pickle.load(f)\n",
    "    print \"Test: Loaded %d images x %d features \" %(len(test_cmask.X), len(test_cmask.X[1]))\n",
    "with open (dataset_base_path +\"/test_FE-lbp-rui-r1-n8-r2-n16-r3-n24_PP-pass.pickle\",'rb') as f:\n",
    "    test_pass = pickle.load(f)\n",
    "    print \"Test: Loaded %d images x %d features \" %(len(test_pass.X), len(test_pass.X[1]))\n",
    "with open (dataset_base_path +\"/test_FE-lbp-rui-r1-n8-r2-n16-r3-n24_PP-comb-thick-6-k-0.2.pickle\",'rb') as f:\n",
    "    test_comb = pickle.load(f)\n",
    "    print \"Test: Loaded %d images x %d features \" %(len(test_comb.X), len(test_comb.X[1]))\n",
    "    \n",
    "\n",
    "# Perform a simple check for the cmask\n",
    "X = np.asarray(my_features_cmask.X).copy()\n",
    "#X = np.concatenate((X,my_features_2.X),axis=0)\n",
    "X = X+ np.asarray(my_features_pass.X).copy()*0.2\n",
    "\n",
    "# filter features\n",
    "X= apply_features_filter(X)\n",
    "my_features_pass.X  = apply_features_filter(my_features_pass.X)\n",
    "my_features_cmask.X = apply_features_filter(my_features_cmask.X)\n",
    "my_features_comb.X = apply_features_filter(my_features_comb.X)\n",
    "test_pass.X  = apply_features_filter(test_pass.X)\n",
    "test_cmask.X = apply_features_filter(test_cmask.X)\n",
    "test_comb.X = apply_features_filter(test_comb.X)\n",
    "\n",
    "y = np.asarray(my_features_cmask.y).copy()\n",
    "#y = np.concatenate((y,my_features_2.y),axis=0)\n",
    "print \"Pass    : \", len(my_features_pass.X), ' x ', len(my_features_pass.X[0])\n",
    "print \"Cmask   : \", len(my_features_cmask.X), ' x ', len(my_features_cmask.X[0])\n",
    "print \"Combined: \", len(X), ' x ', len(X[0])\n",
    "\n",
    "\n"
   ]
  },
  {
   "cell_type": "code",
   "execution_count": 17,
   "metadata": {},
   "outputs": [
    {
     "data": {
      "image/png": "[encoded data removed]",
      "text/plain": [
       "<Figure size 1080x1080 with 1 Axes>"
      ]
     },
     "metadata": {
      "needs_background": "light"
     },
     "output_type": "display_data"
    }
   ],
   "source": [
    "from matplotlib import pyplot as plt\n",
    "plt.rcParams['figure.figsize'] = (15,15)\n",
    "n_features=len(my_features_pass.X[0])\n",
    "plt.hist(range(n_features), bins=n_features, weights=my_features_pass.X[0],color='r')\n",
    "plt.hist(range(n_features), bins=n_features, weights=my_features_comb.X[0],color='b')\n",
    "plt.hist(range(n_features), bins=n_features, weights=my_features_cmask.X[0],color='g')\n",
    "plt.legend(['pass','comb','cmask'])\n",
    "#plt.plot(my_features_cmask.X[0],'b')\n",
    "plt.show()\n"
   ]
  },
  {
   "cell_type": "code",
   "execution_count": 16,
   "metadata": {},
   "outputs": [
    {
     "name": "stdout",
     "output_type": "stream",
     "text": [
      "Skipping Randomisation of training sets\n"
     ]
    }
   ],
   "source": [
    "# TODO if randomisation is required, we can do something like this ... otherwise skip this cell\n",
    "\n",
    "do_randomize_training_set = False\n",
    "\n",
    "if do_randomize_training_set:\n",
    "    indices=np.asarray(range(len(X)))\n",
    "    random.shuffle(indices)\n",
    "\n",
    "    print ' Shuffling using indices: ', indices\n",
    "    my_features_cmask.X = my_features_cmask.X[indices]\n",
    "    my_features_cmask.y = my_features_cmask.y[indices]\n",
    "    \n",
    "    my_features_pass.X = my_features_pass.X[indices]\n",
    "    my_features_pass.y = my_features_pass.y[indices]\n",
    "    \n",
    "    my_features_comb.X = my_features_comb.X[indices]\n",
    "    my_features_comb.y = my_features_comb.y[indices]\n",
    "    print my_features_cmask.y\n",
    "else:\n",
    "    print 'Skipping Randomisation of training sets'"
   ]
  },
  {
   "cell_type": "code",
   "execution_count": 14,
   "metadata": {},
   "outputs": [
    {
     "name": "stdout",
     "output_type": "stream",
     "text": [
      "Fitting cmask method\n",
      "Fitting pass method\n",
      "Fitting combined cmask method\n",
      "Training Done\n"
     ]
    }
   ],
   "source": [
    "print \"Fitting cmask method\"\n",
    "my_C = 30\n",
    "my_gamma = 1e-5\n",
    "\n",
    "my_classifier_cmask = SVC(kernel = 'rbf',\n",
    "                         C      = my_C ,\n",
    "                         gamma  = my_gamma)\n",
    "model_cmask = my_classifier_cmask.fit(my_features_cmask.X, my_features_cmask.y)\n",
    "\n",
    "print \"Fitting pass method\"\n",
    "my_classifier_pass = SVC(kernel = 'rbf',\n",
    "                         C      = my_C ,\n",
    "                         gamma  = my_gamma)\n",
    "model_pass = my_classifier_pass.fit(my_features_pass.X, my_features_pass.y)\n",
    "\n",
    "print \"Fitting combined cmask method\"\n",
    "my_classifier_comb = SVC(kernel = 'rbf',\n",
    "                         C      = my_C ,\n",
    "                         gamma  = my_gamma)\n",
    "model_comb = my_classifier_comb.fit(X,y)\n",
    "print 'Training Done'"
   ]
  },
  {
   "cell_type": "code",
   "execution_count": 15,
   "metadata": {},
   "outputs": [
    {
     "name": "stdout",
     "output_type": "stream",
     "text": [
      "=======================\n",
      "Accuracy Score cmask= 0.892667\n",
      "[[1474   10    3   13]\n",
      " [   3 1202   15  280]\n",
      " [   1    9 1479   11]\n",
      " [  58  207   34 1201]]\n",
      "              precision    recall  f1-score   support\n",
      "\n",
      "  background       0.96      0.98      0.97      1500\n",
      "         can       0.84      0.80      0.82      1500\n",
      "        corn       0.97      0.99      0.98      1500\n",
      "      radish       0.80      0.80      0.80      1500\n",
      "\n",
      "   micro avg       0.89      0.89      0.89      6000\n",
      "   macro avg       0.89      0.89      0.89      6000\n",
      "weighted avg       0.89      0.89      0.89      6000\n",
      "\n",
      "=======================\n",
      "Accuracy Score pass= 0.869833\n",
      "[[1467    9    1   23]\n",
      " [   0 1111   26  363]\n",
      " [   3   78 1351   68]\n",
      " [  54  143   13 1290]]\n",
      "              precision    recall  f1-score   support\n",
      "\n",
      "  background       0.96      0.98      0.97      1500\n",
      "         can       0.83      0.74      0.78      1500\n",
      "        corn       0.97      0.90      0.93      1500\n",
      "      radish       0.74      0.86      0.80      1500\n",
      "\n",
      "   micro avg       0.87      0.87      0.87      6000\n",
      "   macro avg       0.88      0.87      0.87      6000\n",
      "weighted avg       0.88      0.87      0.87      6000\n",
      "\n",
      "=======================\n",
      "Accuracy Score combined= 0.903333\n",
      "[[1476   10    3   11]\n",
      " [   3 1202   13  282]\n",
      " [   3   37 1449   11]\n",
      " [  57  136   14 1293]]\n",
      "              precision    recall  f1-score   support\n",
      "\n",
      "  background       0.96      0.98      0.97      1500\n",
      "         can       0.87      0.80      0.83      1500\n",
      "        corn       0.98      0.97      0.97      1500\n",
      "      radish       0.81      0.86      0.84      1500\n",
      "\n",
      "   micro avg       0.90      0.90      0.90      6000\n",
      "   macro avg       0.90      0.90      0.90      6000\n",
      "weighted avg       0.90      0.90      0.90      6000\n",
      "\n",
      "Done\n"
     ]
    }
   ],
   "source": [
    "from sklearn.metrics import accuracy_score\n",
    "from sklearn.metrics import confusion_matrix\n",
    "from sklearn.metrics import classification_report\n",
    "\n",
    "features = test_cmask.X\n",
    "labels   = test_cmask.y\n",
    "predictions = model_cmask.predict(features)\n",
    "\n",
    "current_score = accuracy_score(labels, predictions)\n",
    "print '======================='\n",
    "print('Accuracy Score cmask= %f' %(current_score) )\n",
    "print(confusion_matrix(labels, predictions))\n",
    "print(classification_report(labels, predictions))\n",
    "\n",
    "features = test_pass.X\n",
    "labels   = test_pass.y\n",
    "predictions = model_pass.predict(features)\n",
    "\n",
    "current_score = accuracy_score(labels, predictions)\n",
    "print '======================='\n",
    "print('Accuracy Score pass= %f' %(current_score) )\n",
    "print(confusion_matrix(labels, predictions))\n",
    "print(classification_report(labels, predictions))\n",
    "\n",
    "features = test_comb.X\n",
    "labels   = test_comb.y\n",
    "predictions = model_comb.predict(features)\n",
    "\n",
    "current_score = accuracy_score(labels, predictions)\n",
    "print '======================='\n",
    "print('Accuracy Score combined= %f' %(current_score) )\n",
    "print(confusion_matrix(labels, predictions))\n",
    "print(classification_report(labels, predictions))\n",
    "\n",
    "print 'Done'"
   ]
  },
  {
   "cell_type": "code",
   "execution_count": null,
   "metadata": {},
   "outputs": [],
   "source": []
  }
 ],
 "metadata": {
  "kernelspec": {
   "display_name": "Python 2",
   "language": "python",
   "name": "python2"
  },
  "language_info": {
   "codemirror_mode": {
    "name": "ipython",
    "version": 2
   },
   "file_extension": ".py",
   "mimetype": "text/x-python",
   "name": "python",
   "nbconvert_exporter": "python",
   "pygments_lexer": "ipython2",
   "version": "2.7.12"
  }
 },
 "nbformat": 4,
 "nbformat_minor": 2
}
